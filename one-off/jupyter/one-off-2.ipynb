{
 "cells": [
  {
   "cell_type": "raw",
   "id": "63a2c7bf-24d3-49c8-8ff3-23cd6e4a846f",
   "metadata": {},
   "source": [
    "\n",
    "value\t   12\t6\t4\t13\t1\t10\t20\t18\\\n",
    "prefer lo\tF\tF\tT\tT\tF\tF\tF\tT\\\n",
    "couple\t    F\tT\tT\tF\tF\tF\tT\tT\\\n",
    "votes\t    0\t2\t2\t0\t0\t1\t2\t1\\\n",
    "triples\t    F\tF\tF\tF\tF\tT\tT\tT\\\n",
    "coluples\tT\tT\tT\tT\tF\tF\tF\tF\\\n",
    "simgle\t    F\tF\tF\tF\tT\tF\tF\tF\\\n",
    "\t\t\t\t\t\t"
   ]
  }
 ],
 "metadata": {
  "kernelspec": {
   "display_name": "Python 3 (ipykernel)",
   "language": "python",
   "name": "python3"
  },
  "language_info": {
   "codemirror_mode": {
    "name": "ipython",
    "version": 3
   },
   "file_extension": ".py",
   "mimetype": "text/x-python",
   "name": "python",
   "nbconvert_exporter": "python",
   "pygments_lexer": "ipython3",
   "version": "3.13.1"
  }
 },
 "nbformat": 4,
 "nbformat_minor": 5
}
