{
 "cells": [
  {
   "cell_type": "markdown",
   "id": "63fa615f-7bc6-4be6-9d7c-535fa50dced9",
   "metadata": {},
   "source": [
    "# Mergables\n",
    "\n",
    "**Author:** Ivo Knittel  \n",
    "**Date:** 11.1.2025\n",
    "\n",
    "---\n",
    "\n",
    "## Abstract\n",
    "\n",
    "This implements real-number \"Mergables\".\n",
    "\n",
    "---\n"
   ]
  },
  {
   "cell_type": "markdown",
   "id": "59cd8a98-8f59-48c8-8cc2-5cc8b2e8e541",
   "metadata": {},
   "source": [
    "## Data Structure\n",
    "\n",
    "An entity of type Mergable has:\n",
    "\n",
    "1. **Properties**\n",
    "2. **A quality** in $[0, 1]$, where $0$ represents the worst quality and $1$ represents perfect quality.\n",
    "3. **A linear range** $[\\text{lo}, \\text{hi}]$ in $[0, 2^M]$, with $\\text{lo} \\leq \\text{hi}$.\n",
    "\n",
    "The width of the item is:\n",
    "$$\n",
    "w = \\text{hi} - \\text{lo}.\n",
    "$$\n",
    "\n",
    "---"
   ]
  },
  {
   "cell_type": "markdown",
   "id": "5c68d176-b2cc-416b-8ad2-44167cb35795",
   "metadata": {},
   "source": [
    "### Properties\n",
    "\n",
    "- $\\Sigma x$: Real number\n",
    "- $\\Sigma x^2$: Real number\n",
    "- $n$: Integer\n",
    "- $\\text{quality}$: Real number\n",
    "\n",
    "For $v^0_j$, the properties are:\n",
    "$$\n",
    "\\Sigma x = v^0_j, \\quad \\Sigma x^2 = (v^0_j)^2, \\quad n = 1, \\quad \\text{quality} = \\text{undefined}.\n",
    "$$\n",
    "\n",
    "### Merge Function\n",
    "\n",
    "For $\\text{merge}(v, w) \\rightarrow u$:\n",
    "$$\n",
    "u_{\\Sigma x} = v_{\\Sigma x} + w_{\\Sigma x}, \\\\\n",
    "u_{\\Sigma x^2} = v_{\\Sigma x^2} + w_{\\Sigma x^2}, \\\\\n",
    "$$"
   ]
  },
  {
   "cell_type": "code",
   "execution_count": null,
   "id": "fa08b7ab-24ce-4b6b-b5df-2df71a22a399",
   "metadata": {},
   "outputs": [],
   "source": [
    "class ItemProperties:\n",
    "    def __init__(self, *args):\n",
    "        \"\"\"\n",
    "        Initialize an Item object.\n",
    "        Can be initialized with a single value or two Item objects.\n",
    "        \"\"\"\n",
    "        if len(args) == 1 and isinstance(args[0], (int, float)):\n",
    "            # Initialize with a single value\n",
    "            value = args[0]\n",
    "            self.sum = value\n",
    "            self.sum_of_squares = value * value\n",
    "            self.num = 1\n",
    "        elif len(args) == 2 and all(isinstance(arg, Item) for arg in args):\n",
    "            # Initialize with two Item objects\n",
    "            item1, item2 = args\n",
    "            self.sum = item1.sum + item2.sum\n",
    "            self.sum_of_squares = item1.sum_of_squares + item2.sum_of_squares\n",
    "            self.num = item1.num + item2.num\n",
    "        else:\n",
    "            raise ValueError(\"Invalid arguments. Expected a single value or two Item objects.\")\n",
    "\n",
    "    def __repr__(self):\n",
    "        \"\"\"\n",
    "        String representation of the Item object.\n",
    "        \"\"\"\n",
    "        return f\"Item(sum={self.sum}, sum_of_squares={self.sum_of_squares}, num={self.num})\"\n"
   ]
  },
  {
   "cell_type": "markdown",
   "id": "d7aec9f4-b0ee-4bc8-80a7-341dd085d28f",
   "metadata": {},
   "source": [
    "### Range"
   ]
  },
  {
   "cell_type": "code",
   "execution_count": null,
   "id": "c89485d2-ce46-4b9d-bd1e-f92d837aadd4",
   "metadata": {},
   "outputs": [],
   "source": [
    "class ItemRange:\n",
    "    def __init__(self, lo, hi):\n",
    "        if lo>=hi:\n",
    "            raise ValueError(\"Invalid arguments. Expected a range with lo < hi.\")\n",
    "        self.lo=lo\n",
    "        self.hi=hi"
   ]
  },
  {
   "cell_type": "markdown",
   "id": "d41ab000-dca1-4686-9c1e-893c549c2763",
   "metadata": {},
   "source": [
    "### Quality\n",
    "\n",
    "$$\n",
    "\\text{error} = \\left(\\frac{\\Sigma x^2}{n} - \\left(\\frac{\\Sigma x}{n}\\right)^2\\right) / \\left(\\frac{\\Sigma x}{n}\\right)^2.\n",
    "\\text{quality} = \\frac{(n-1) - \\text{error}}{n-1},\n",
    "$$"
   ]
  },
  {
   "cell_type": "markdown",
   "id": "b987591b-cf3d-4077-8903-fa0d01e60c56",
   "metadata": {},
   "source": [
    "### Item"
   ]
  },
  {
   "cell_type": "code",
   "execution_count": null,
   "id": "9b13fd9a-e6e3-4ea6-8bac-6d6a1fc920a0",
   "metadata": {},
   "outputs": [],
   "source": [
    "class Item():\n",
    "    def __init__(self, *args):\n",
    "        self.prop = ItemProperties(*args[1])    \n",
    "        error = (prop.num_of_squares/prop.num - (prop.sum/prop.num)^2) / (prop.sum/prop.num)^2\n",
    "        self.quality = ((n-1) - error)/(n-1)\n",
    "        if len(args) == 2 and isinstance(args[0], int):\n",
    "            pos=args[0]\n",
    "            self.range = ItemRange(pos, pos+prop.num-1)\n",
    "        elif len(args) == 2 and isinstance(arg, Item) for arg in args)\n",
    "            item1=arg[0]\n",
    "            item2=arg[2]\n",
    "            self.range = ItemRange(item1.range.lo, item2.range.hi)"
   ]
  },
  {
   "cell_type": "markdown",
   "id": "df6a3e7d-ae24-440a-9003-7c216bc9bf61",
   "metadata": {},
   "source": [
    "## Neighbors\n",
    "\n",
    "Two Mergables $v, w$ are neighbors if:\n",
    "$$\n",
    "\\text{hi}(v) + 1 = \\text{lo}(w).\n",
    "$$"
   ]
  },
  {
   "cell_type": "code",
   "execution_count": null,
   "id": "ca3d87b9-ec86-419f-83c3-596a25ca94fd",
   "metadata": {},
   "outputs": [],
   "source": [
    "item1=Item(1,1000)\n",
    "item2=Item(2,1000)\n",
    "assert item1.range.hi+1=item2.range.lo"
   ]
  },
  {
   "cell_type": "markdown",
   "id": "332e34e9-f583-4bb4-b3ea-4e5fe9d43512",
   "metadata": {},
   "source": [
    "## Merge\n",
    "\n",
    "There exists a merge function:\n",
    "$$\n",
    "\\text{merge}: v, w \\text{ (Mergable, and neighbors)} \\rightarrow u \\text{ (Mergable)}\n",
    "$$\n",
    "\n",
    "with:\n",
    "$$\n",
    "\\text{lo}(u) = \\text{lo}(v) \\quad \\text{and} \\quad \\text{hi}(u) = \\text{hi}(w).\n",
    "$$\n",
    "\n",
    "The merge is associative:\n",
    "$$\n",
    "\\text{merge}(v_1, \\text{merge}(v_2, v_3)) = \\text{merge}(\\text{merge}(v_1, v_2), v_3).\n",
    "$$\n",
    "\n",
    "---"
   ]
  },
  {
   "cell_type": "code",
   "execution_count": null,
   "id": "5e330f18-3760-4c96-82a5-834989ff9538",
   "metadata": {},
   "outputs": [],
   "source": [
    "item1=Item(1,1000)\n",
    "item2=Item(2,1000)\n",
    "merge = Item(item1,item2)"
   ]
  }
 ],
 "metadata": {
  "kernelspec": {
   "display_name": "Python 3 (ipykernel)",
   "language": "python",
   "name": "python3"
  },
  "language_info": {
   "codemirror_mode": {
    "name": "ipython",
    "version": 3
   },
   "file_extension": ".py",
   "mimetype": "text/x-python",
   "name": "python",
   "nbconvert_exporter": "python",
   "pygments_lexer": "ipython3",
   "version": "3.13.1"
  }
 },
 "nbformat": 4,
 "nbformat_minor": 5
}
