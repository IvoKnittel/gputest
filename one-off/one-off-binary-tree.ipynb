{
 "cells": [
  {
   "cell_type": "markdown",
   "id": "fbdb0d3d-b17e-45ce-965b-561a42b7be4d",
   "metadata": {},
   "source": [
    "# One-off Binary Tree Implementation\n",
    "\n",
    "\n",
    "---\n",
    "\n",
    "## Abstract\n",
    "\n",
    "This document implements the one-off binary tree\n",
    "\n",
    "---"
   ]
  },
  {
   "cell_type": "markdown",
   "id": "97f22433-3e95-46e6-af7a-b074174f71c4",
   "metadata": {},
   "source": [
    "## Example Data"
   ]
  },
  {
   "cell_type": "code",
   "execution_count": null,
   "id": "c973197b-26a2-426d-8cf4-40c74ea0d0b1",
   "metadata": {},
   "outputs": [],
   "source": [
    "import numpy\n",
    "from items import Item, ExampleItems \n",
    "# Item(sum={self.sum}, sum_of_squares={self.sum_of_squares}, num={self.num})\"\n",
    "e = ExampleItems()\n",
    "items = e.calendar_items\n"
   ]
  },
  {
   "cell_type": "markdown",
   "id": "a3ae2808-6339-4532-9c83-4db7fc83a723",
   "metadata": {},
   "source": [
    "## Merge Candidates\n",
    "\n",
    "In the one-off binary tree, for any item, candidate merges are generated to be processed further:\n",
    "\n",
    "$$\n",
    "\\begin{array}{c|ccccc}\n",
    "\\text{item} & v_0 & v_1 & v_2 & v_3 & v_4 \\\\\n",
    "\\hline\n",
    "\\text{candidate\\_lo} &   & m(v_0, v_1) & m(v_1, v_2) & m(v_2, v_3) & m(v_3, v_4)  \\\\\n",
    "\\text{candidate\\_hi} & m(v_0, v_1) & m(v_1, v_2) & m(v_2, v_3) & m(v_3, v_4) & m(v_4, v_5)\n",
    "\\end{array}\n",
    "$$"
   ]
  },
  {
   "cell_type": "code",
   "execution_count": null,
   "id": "61bfc68f-2276-4941-a0bf-2af7c758b164",
   "metadata": {},
   "outputs": [],
   "source": [
    "tmp = []\n",
    "for n in range(1, len(items)):\n",
    "    tmp.append(Item(items[n - 1], items[n]))\n",
    "\n",
    "cand_lo = [None] + tmp\n",
    "cand_hi = tmp + [None]\n",
    "cand = [cand_lo, cand_hi]"
   ]
  },
  {
   "cell_type": "markdown",
   "id": "80308f6f-c25d-41e3-ad8a-afcd907edbba",
   "metadata": {},
   "source": [
    "## Merge Candidate Preference\n",
    "\n",
    "Item $v_1$ has two candidate merges and chooses the better one (marked bold in the table), the same with $v_2$.  \n",
    "If their choices agree, we get a \"happy couple\":\n",
    "\n",
    "$$\n",
    "\\begin{array}{c|cc}\n",
    "\\text{item}  & v_1 & v_2 \\\\\n",
    "\\hline\n",
    "\\text{candidate\\_lo} & m(v_0, v_1) & \\bf{m(v_1, v_2)} \\\\\n",
    "\\text{candidate\\_hi} & \\bf{m(v_1, v_2)} & m(v_2, v_3) \n",
    "\\end{array}\n",
    "$$"
   ]
  },
  {
   "cell_type": "code",
   "execution_count": null,
   "id": "dbf50e85-8509-454c-a8c9-d5df6c65597d",
   "metadata": {},
   "outputs": [],
   "source": [
    "lo_is_better = []\n",
    "for n in range(len(items)):\n",
    "    lo_item = cand_lo[n]\n",
    "    hi_item = cand_hi[n]\n",
    "\n",
    "    \n",
    "    if lo_item is None:\n",
    "        lo_is_better.append(False)\n",
    "    elif hi_item is None:\n",
    "        lo_is_better.append(True)\n",
    "    else:\n",
    "        lo_is_better.append(lo_item.quality > hi_item.quality)\n",
    "\n",
    "import numpy as np\n",
    "lo_is_better = np.array([lo_is_better])"
   ]
  },
  {
   "cell_type": "markdown",
   "id": "5882e60f-9c6d-4fac-ad58-2b6d2277a904",
   "metadata": {},
   "source": [
    "\n",
    "A Couple is written as $C_j = [v_j, v_{j+1}]$.\n",
    "\n",
    "In the other case, we get a \"midsummer night's dream\":  \n",
    "$v_1$ loves $v_2$, but $v_2$ loves $v_3$, etc.\n",
    "\n",
    "$$\n",
    "\\begin{array}{c|cc}\n",
    "\\text{item}  & v_1 & v_2 \\\\\n",
    "\\hline\n",
    "\\text{candidate\\_lo} & m(v_0, v_1) & m(v_1, v_2) \\\\\n",
    "\\text{candidate\\_hi} & \\bf{m(v_1, v_2)} & \\bf{m(v_2, v_3)} \n",
    "\\end{array}\n",
    "$$"
   ]
  },
  {
   "cell_type": "code",
   "execution_count": null,
   "id": "931b9d8c-3a31-4f7f-88bd-412c621eaeda",
   "metadata": {},
   "outputs": [],
   "source": [
    "\n",
    "\n",
    "# Create other boolean arrays\n",
    "hi_is_better = ~lo_is_better  # hi_is_better is the negation of lo_is_better\n",
    "is_couple_begin = np.zeros(len(items), dtype=bool)\n",
    "belongs_couple = np.zeros(len(items), dtype=bool)\n",
    "is_triple_begin = np.zeros(len(items), dtype=bool)\n",
    "belongs_triple = np.zeros(len(items), dtype=bool)\n",
    "belongs_up_chain = np.zeros(len(items), dtype=bool)\n",
    "belongs_down_chain = np.zeros(len(items), dtype=bool)\n",
    "\n",
    "\n",
    "# Initialize previous values\n",
    "previous_index = 0\n",
    "previous_lo_is_better = lo_is_better[0]\n",
    "previous_hi_is_better = hi_is_better[0]\n",
    "\n",
    "# Loop from index 1 to the last element\n",
    "for current_index in range(1, size):\n",
    "    current_lo_is_better = lo_is_better[current_index]\n",
    "    current_hi_is_better = hi_is_better[current_index]\n",
    "\n",
    "    if previous_hi_is_better:\n",
    "        if current_lo_is_better:\n",
    "            # We have found a happy couple\n",
    "            is_couple_begin[previous_index] = True\n",
    "            belongs_couple[previous_index] = True\n",
    "            belongs_couple[current_index] = True\n",
    "        else:\n",
    "            # We have found a love chain leading upwards (A loves B, but B loves C, but C loves D ...)\n",
    "            belongs_up_chain[previous_index] = True\n",
    "    else:\n",
    "        # previous_lo_is_better: the previous item does not like the current one\n",
    "        if current_lo_is_better:\n",
    "            # A love chain in the opposite direction\n",
    "            belongs_down_chain[current_index] = True\n",
    "    \n",
    "    # Update previous values\n",
    "    previous_index = current_index\n",
    "    previous_lo_is_better = current_lo_is_better\n",
    "    previous_hi_is_better = current_hi_is_better\n",
    "\n",
    "result_vector = belongs_up_chain | belongs_down_chain | belongs_couple  # Element-wise OR\n",
    "assert np.all(result_vector)  # True if all elements of result_vector are True"
   ]
  },
  {
   "cell_type": "markdown",
   "id": "28ecce72-ff1c-4b61-a411-14ea167ab5ef",
   "metadata": {},
   "source": [
    "\n",
    "### Chain Resolution\n",
    "\n",
    "Above, items $v_{1 \\dots 3}$ form a chain. Chains can be of any length.  \n",
    "A chain is terminated by a happy Couple.  \n",
    "However, we can reduce this to three cases.\n",
    "\n",
    "---\n",
    "\n",
    "#### Two Couples\n",
    "\n",
    "A chain of length 2 and termination at both ends, with $m(v_i, v_j)$ written as $(i, j)$:\n",
    "\n",
    "$$\n",
    "\\begin{array}{c|ccccccc}\n",
    "\\text{item}  & 1 & 2 & 3 & 4 & 5 & 6 & 7 \\\\\n",
    "\\hline\n",
    "\\text{candidate\\_lo} & (0, 1) & \\bf{(1, 2)} & (2, 3) & (3, 4) & (4, 5) & \\bf{(5, 6)} \\\\\n",
    "\\text{candidate\\_hi} & \\bf{(1, 2)} & (2, 3) & \\bf{(3, 4)} & \\bf{(4, 5)} & \\bf{(5, 6)} & (6, 7)\n",
    "\\end{array}\n",
    "$$\n",
    "\n",
    "The items of a chain of length 2 settle into a couple.\n",
    "\n",
    "---"
   ]
  },
  {
   "cell_type": "code",
   "execution_count": null,
   "id": "795c891e-3698-44b6-940e-e950af9aaba5",
   "metadata": {},
   "outputs": [],
   "source": [
    "# merge chain items into couple whenever possible\n",
    "for current_index in range(1, len(items):\n",
    "    previous_index = current_index -1\n",
    "    if belongs_down_chain[previous_index] and belongs_down_chain[current_index] = True:\n",
    "        # found two chain elements\n",
    "        belongs_down_chain[previous_index] = false\n",
    "        belongs_down_chain[current_index] = false\n",
    "        # force them into a couple\n",
    "        is_couple_begin[previous_index] = True\n",
    "        belongs_couple[previous_index] = True\n",
    "        belongs_couple[current_index] = True\n",
    "\n",
    "    if belongs_up_chain[previous_index] and belongs_up_chain[current_index] = True:\n",
    "        # found two chain elements\n",
    "        belongs_up_chain[previous_index] = false\n",
    "        belongs_up_chain[current_index] = false\n",
    "        # force them into a couple\n",
    "        is_couple_begin[previous_index] = True\n",
    "        belongs_couple[previous_index] = True\n",
    "        belongs_couple[current_index] = True\n",
    "\n"
   ]
  },
  {
   "cell_type": "markdown",
   "id": "18e45521-c09f-4bbb-883c-1d436547d20e",
   "metadata": {},
   "source": [
    "#### Triples\n",
    "\n",
    "A chain of one element is called a Triple, written as:\n",
    "\n",
    "$$\n",
    "T_j = [v_j, v_{j+1}, v_{j+2}].\n",
    "$$\n",
    "\n",
    "After settling, there are only Couples and Triples. Between Triples, there can exist any number of Couples or none.\n",
    "\n",
    "Any nonempty sequence of Triples $Q$ starts with an Even Triple and ends with an Odd Triple.\n",
    "\n",
    "A Triple Pair can also be written \n",
    "\n",
    "in terms of $\\bar{j}$ indices $i, {i'} \\in [0, 1, \\dots, \\bar{e}]$:\n",
    "\n",
    "$$\n",
    "P = (T_{a(k)}, T_{a(k+1)}) = P_{i{i'}}, \\quad a(k) = 2i, \\quad a(k+1) = 2{i'} - 1\n",
    "$$\n",
    "\n"
   ]
  },
  {
   "cell_type": "code",
   "execution_count": null,
   "id": "aa8ff544-8365-4a66-8db2-886c11f8f881",
   "metadata": {},
   "outputs": [],
   "source": [
    "# confirm there are only chains with on element left \n",
    "for current_index in range(1, len(items)):\n",
    "    previous_index = current_index -1\n",
    "    assert not (belongs_up_chain[previous_index] and belongs_up_chain[current_index])\n",
    "    assert not (belongs_down_chain[previous_index] and belongs_down_chain[current_index])\n",
    "\n",
    "# confirm each single element is attached to a couple\n",
    "for current_index in range(1, len(items)):\n",
    "    if belongs_up_chain[current_index]:\n",
    "        assert current_index < len(items)-2\n",
    "        assert belongs_couple[current_index + 1] and belongs_couple[current_index + 2]\n",
    "       \n",
    "    if belongs_down_chain[current_index]:\n",
    "        assert current_index > 1\n",
    "        assert belongs_couple[current_index - 1] and belongs_couple[current_index - 2]\n",
    "\n",
    "assert not belongs_up_chain[-1]\n",
    "assert not belongs_down_chain[0]"
   ]
  },
  {
   "cell_type": "code",
   "execution_count": null,
   "id": "a503f53a-f8d4-49d3-a371-82ce82c7dbcc",
   "metadata": {},
   "outputs": [],
   "source": [
    "for current_index in range(0, len(items)-1):\n",
    "    if belongs_up_chain[current_index]:\n",
    "        is_triple_begin[current_index]=true\n",
    "        belongs_triple[current_index:current_index+2]=true\n",
    "    if belongs_down_chain[current_index]:\n",
    "        is_triple_begin[current_index-2]=true\n",
    "        belongs_triple[current_index-2:current_index]=true      "
   ]
  },
  {
   "cell_type": "code",
   "execution_count": null,
   "id": "64673dd4-2820-4a6d-ba12-faab14805227",
   "metadata": {},
   "outputs": [],
   "source": [
    "# the triple start indices are Even - Odd - Even ...\n",
    "triple_begin_must_be_even = true\n",
    "triple_begin_must be_odd = false\n",
    "for current_index in range(0, len(items)):\n",
    "    if is_triple_begin[current_index]:\n",
    "        current_index_is_even = current_index%2==0\n",
    "        current_index_is_odd = current_index%2==1\n",
    "        assert not (current_index_is_even and triple_begin_must_be_odd)\n",
    "        assert not (current_index_is_odd and triple_begin_must_be_even)\n",
    "        triple_begin_must_be_even = not triple_begin_must_be_even\n",
    "        triple_begin_must_be_odd = not triple_begin_must_be_odd"
   ]
  },
  {
   "cell_type": "markdown",
   "id": "094ed121-cf33-4a15-a729-2d185c51f636",
   "metadata": {},
   "source": [
    "---\n",
    "\n",
    "### Sequence of Triple Pairs\n",
    "\n",
    "The sequence of Triple Pairs can be written as:\n",
    "\n",
    "$$\n",
    "R: P_{i(k){i'}(k)}, \\quad i(k) < {i'}(k) < i(k+1), \\quad i, {i'} \\in [0, 1, \\dots, \\bar{e}]\n",
    "$$\n",
    "\n",
    "with\n",
    "\n",
    "$$\n",
    "P_{i{i'}} = (T_{2i}, T_{2{i'} - 1})\n",
    "$$\n",
    "\n",
    "\n",
    "---\n",
    "\n",
    "### Defects\n",
    "\n",
    "A change in $t_{j-1} \\ne t_j$ is called a Defect, denoted $D_j$.\n",
    "\n",
    "A series of consecutive Couples translates into a section of constant $t$ values.  \n",
    "A Triple of items $T_j$ corresponds one-to-one to a Defect in $t$.  \n",
    "There are four types of Defects:\n",
    "\n",
    "$$\n",
    "(t_{j-1}, t_j) \\text{ with values } \\quad (-1, 0), \\quad (0, 1), \\quad (0, -1), \\quad (1, 0).\n",
    "$$\n",
    "\n",
    "---"
   ]
  },
  {
   "cell_type": "code",
   "execution_count": null,
   "id": "cf52220f-d5fb-4cb6-bccd-c4f3f8f90ace",
   "metadata": {},
   "outputs": [],
   "source": [
    "c=1"
   ]
  },
  {
   "cell_type": "markdown",
   "id": "080b4062-c8f3-4a6f-8d4b-f8c63b1f99fc",
   "metadata": {},
   "source": [
    "\n",
    "### Triples Relative to the Binary Grid\n",
    "\n",
    "How to merge a Triple also depends on its position relative to the binary grid. We set apart:  \n",
    "- The **Even Triple** $T_j$ with an even index, and  \n",
    "- The **Odd Triple** otherwise.\n",
    "\n",
    "The sequence of Triples within a tree row $v$ is given by:\n",
    "\n",
    "$$\n",
    "Q: \\{ T_{a(k)}, k = 0 \\dots \\text{number of Triples} - 1, \\quad a(j) + 2 < a(j+1), 0 \\le j \\le e \\}\n",
    "$$"
   ]
  },
  {
   "cell_type": "code",
   "execution_count": null,
   "id": "aba08dcf-fa2c-4dd1-878a-6bd3917a0348",
   "metadata": {},
   "outputs": [],
   "source": [
    "d=1"
   ]
  },
  {
   "cell_type": "markdown",
   "id": "8cfb20aa-dae8-4e33-baae-a37a44bcad5c",
   "metadata": {},
   "source": [
    "### Triples to Merge\n",
    "\n",
    "Denoting a Single as an item being transferred to the next-higher row alone:\n",
    "\n",
    "$$\n",
    "S_j = (v_j),\n",
    "$$\n",
    "\n",
    "assign the full merge to\n",
    "$$\n",
    " T'_j: (v_j, (v_{j+1}, v_{j+2})) = ((v_j, v_{j+1}), v_{j+2})\n",
    "$$\n",
    "\n",
    "Compare the quality of the $S_j C_{j+1}$ merge and the quality of the $C_j S_{j+2}$ merge\n",
    "and assign the merge with the better quality to\n",
    "\n",
    "$$\n",
    "K_j := \n",
    "\\begin{cases} \n",
    "S_j C_{j+1} & \\text{if } q(S_j C_{j+1}) > q(C_j S_{j+2}) \\\\\n",
    "C_j S_{j+2} & \\text{otherwise}\n",
    "\\end{cases}\n",
    "$$"
   ]
  },
  {
   "cell_type": "code",
   "execution_count": null,
   "id": "e3a93583-5054-4fca-a933-9e7b971d1630",
   "metadata": {},
   "outputs": [],
   "source": [
    "e=1"
   ]
  },
  {
   "cell_type": "markdown",
   "id": "79388cc6-e14f-4d73-bcbb-7ab2333152fc",
   "metadata": {},
   "source": [
    "### Merging a Triple Pair\n",
    "\n",
    "There are two ways to merge a Triple Pair $P: (T_{2i}, T_{2{i'} - 1})$, with $i < i'$:  \n",
    "1. As $(T'_{2i}, K_{2{i'}-1})$,  \n",
    "2. As $(K_{2i}, T'_{2{i'}-1})$.  \n",
    "\n",
    "Compare the two merge pairs $(T'_{2i}, K_{2{i'}-1})$ and $(K_{2i}, T'_{2{i'}-1})$ \n",
    "and call the merge with the better quality the **Triple Merge Pair**:\n",
    "\n",
    "$$\n",
    "Z_{i{i'}} = (W_{2i}, W_{2{i'}-1}) := \n",
    "\\begin{cases} \n",
    "(T'_{2i}, K_{2{i'}-1}) & \\text{if } q(T'_{2i}, K_{2{i'}-1}) > q(K_{2i}, T'_{2{i'}-1}) \\\\ \n",
    "(K_{2i}, T'_{2{i'}-1}) & \\text{otherwise}\n",
    "\\end{cases}\n",
    "$$\n",
    "\n",
    "---\n"
   ]
  },
  {
   "cell_type": "code",
   "execution_count": null,
   "id": "4e913ec4-ea18-4770-9fd0-a14dea81550e",
   "metadata": {},
   "outputs": [],
   "source": [
    "f=1"
   ]
  },
  {
   "cell_type": "markdown",
   "id": "fa71bc4f-a168-4e74-930c-322cc3d8c9c9",
   "metadata": {},
   "source": [
    "### Sequence of Merge Triple Pairs\n",
    "\n",
    "We define the sequence of Merge Triple Pairs $V$, which is isomorphic to the sequence of Triple Pairs $P$:\n",
    "\n",
    "$$\n",
    "V: Z_{i(k){i'}(k)}, \\quad i(k) < {i'}(k) < i(k+1), \\quad i, {i'} \\in [0, 1, \\dots, \\bar{e}]\n",
    "$$\n",
    "\n",
    "---\n",
    "\n",
    "### Sequence of Merge Triples\n",
    "\n",
    "We define the sequence of Merge Triples $T$, which is isomorphic to the sequence of Triples $Q$:\n",
    "\n",
    "$$\n",
    "T: \\{ W_{a(k)}, \\quad k = 0, \\dots, \\text{number of Triples} - 1 \\}\n",
    "$$\n",
    "\n",
    "The sequence $T$ then translates into the $t$ vector.\n",
    "The complete $t$ vector then allows to merge the Couples:\n"
   ]
  },
  {
   "cell_type": "code",
   "execution_count": null,
   "id": "510b1130-073d-44b5-976e-b358effc03b8",
   "metadata": {},
   "outputs": [],
   "source": [
    "g=1"
   ]
  },
  {
   "cell_type": "markdown",
   "id": "001ad8e9-5d97-4237-a3f8-338a8d562cdf",
   "metadata": {},
   "source": [
    "### Couples to Merge\n",
    "\n",
    "A Couple $C_j$ with an even index is merged just like in the Binary Tree:\n",
    "\n",
    "$$\n",
    "t^1_j = 0: \\\\\n",
    "j^1_i = (j^0_{2i}, j^0_{2i+1}).\n",
    "$$\n",
    "\n",
    "For a Couple $C_j$ with an odd index, there is a choice: It is either merged according to:\n",
    "\n",
    "$$\n",
    "t^1_j = 1: \\\\\n",
    "j^1_i = (j^0_{2i-1}, j^0_{2i}),\n",
    "$$\n",
    "\n",
    "or\n",
    "\n",
    "$$\n",
    "t^1_j = -1: \\\\\n",
    "j^1_i = (j^0_{2i+1}, j^0_{2i+2}).\n",
    "$$\n",
    "\n",
    "\n",
    "---"
   ]
  },
  {
   "cell_type": "code",
   "execution_count": null,
   "id": "fd42cf8c-5926-4d26-9e6c-fdc6df6b14f1",
   "metadata": {},
   "outputs": [],
   "source": [
    "h=1"
   ]
  },
  {
   "cell_type": "markdown",
   "id": "a004e5b1-5798-4ada-973e-6503f7730e29",
   "metadata": {},
   "source": [
    "## One-off Binary Tree Definition\n",
    "With $i = 2j$:\n",
    "\n",
    "$$\n",
    "r(\\bar{v}, -) = r(v_{2i + t_i}, -), \\quad r(\\bar{v}, +) = r(v_{2(i+1)+1+t_{i+1}}, +)\n",
    "$$\n",
    "\n",
    "with unit shifts:\n",
    "\n",
    "$$\n",
    "t_0 = 0, \\quad t_i \\in \\{-1, 0, 1\\}\n",
    "$$\n",
    "\n",
    "obeying:\n",
    "\n",
    "$$\n",
    "\\left| t_{i+1} - t_i \\right| \\le 1.\n",
    "$$"
   ]
  },
  {
   "cell_type": "code",
   "execution_count": null,
   "id": "c3808291-f665-4d53-af66-c7ade3162fca",
   "metadata": {},
   "outputs": [],
   "source": []
  }
 ],
 "metadata": {
  "kernelspec": {
   "display_name": "Python 3 (ipykernel)",
   "language": "python",
   "name": "python3"
  },
  "language_info": {
   "codemirror_mode": {
    "name": "ipython",
    "version": 3
   },
   "file_extension": ".py",
   "mimetype": "text/x-python",
   "name": "python",
   "nbconvert_exporter": "python",
   "pygments_lexer": "ipython3",
   "version": "3.13.1"
  }
 },
 "nbformat": 4,
 "nbformat_minor": 5
}
