{
 "cells": [
  {
   "cell_type": "markdown",
   "id": "409343c2-408a-4526-b379-d91875a04499",
   "metadata": {},
   "source": [
    "# Performance Analysis of GPU Copy Functions\n",
    "\n",
    "## Introduction\n",
    "\n",
    "In this notebook, we analyze the performance of GPU copy. We will plot the time elapsed for these operations against the number of elements processed."
   ]
  },
  {
   "cell_type": "code",
   "execution_count": 1,
   "id": "eab38eb0-bd8b-4364-8952-8e59461f88b5",
   "metadata": {},
   "outputs": [],
   "source": [
    "import matplotlib.pyplot as plt\n",
    "import mygputest.shuffle_copy as shuffle_copy"
   ]
  },
  {
   "cell_type": "markdown",
   "id": "396f47d5-73c6-4824-94a4-006abaff2031",
   "metadata": {},
   "source": [
    "## Results\n",
    "\n",
    "The following plot shows the relationship between the time elapsed and the number of elements processed."
   ]
  },
  {
   "cell_type": "code",
   "execution_count": 5,
   "id": "b08e5350-4df8-4424-bd56-35d6b1589be1",
   "metadata": {},
   "outputs": [],
   "source": [
    "# Initialize variables\n",
    "num_treads_per_block = 512\n",
    "time_elapsed = []\n",
    "num_elements_list = []\n",
    "\n",
    "# Collect data for num_treads_per_block = 512\n",
    "min_num=10\n",
    "for i in range(0, 300):\n",
    "    num_blocks = min_num + i*10\n",
    "    numElements = num_blocks * num_treads_per_block\n",
    "    num_elements_list.append(numElements)\n",
    "    time_elapsed.append(shuffle_copy.test_copy_allkinds(num_treads_per_block, numElements, False, True))"
   ]
  },
  {
   "cell_type": "markdown",
   "id": "618cf1f9-8f9d-47f1-9c79-607678f03fd6",
   "metadata": {},
   "source": [
    "## Results\n",
    "\n",
    "The following plot shows the relationship between the time elapsed and the number of elements processed."
   ]
  },
  {
   "cell_type": "code",
   "execution_count": null,
   "id": "99f3a04a-9a18-4861-a343-cfea0171c6f6",
   "metadata": {},
   "outputs": [],
   "source": [
    "# Plotting the data\n",
    "plt.figure(figsize=(12, 8))\n",
    "\n",
    "# Plot time_elapsed for 512 threads per block\n",
    "plt.plot(num_elements_list, time_elapsed, label='No Shared Memory (512 threads/block)', marker='o')\n",
    "\n",
    "# Adding titles and labels\n",
    "plt.title('Time Elapsed vs Number of Elements')\n",
    "plt.xlabel('Number of Elements')\n",
    "plt.ylabel('Time Elapsed (ms)')\n",
    "plt.legend()\n",
    "\n",
    "# Show the plot\n",
    "plt.grid(True)\n",
    "plt.show()"
   ]
  },
  {
   "cell_type": "markdown",
   "id": "af3353a5-5be6-4132-99ce-98a8b691342e",
   "metadata": {},
   "source": [
    "*Figure 1: Time elapsed for GPU copy functions with and without shared memory for different numbers of threads per block.*"
   ]
  }
 ],
 "metadata": {
  "kernelspec": {
   "display_name": "Python 3 (ipykernel)",
   "language": "python",
   "name": "python3"
  },
  "language_info": {
   "codemirror_mode": {
    "name": "ipython",
    "version": 3
   },
   "file_extension": ".py",
   "mimetype": "text/x-python",
   "name": "python",
   "nbconvert_exporter": "python",
   "pygments_lexer": "ipython3",
   "version": "3.13.1"
  }
 },
 "nbformat": 4,
 "nbformat_minor": 5
}
